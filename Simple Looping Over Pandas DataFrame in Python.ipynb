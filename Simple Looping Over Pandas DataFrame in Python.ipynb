{
 "cells": [
  {
   "cell_type": "code",
   "execution_count": 1,
   "metadata": {},
   "outputs": [],
   "source": [
    "import pandas as pd"
   ]
  },
  {
   "cell_type": "code",
   "execution_count": 3,
   "metadata": {},
   "outputs": [
    {
     "data": {
      "text/html": [
       "<div>\n",
       "<style scoped>\n",
       "    .dataframe tbody tr th:only-of-type {\n",
       "        vertical-align: middle;\n",
       "    }\n",
       "\n",
       "    .dataframe tbody tr th {\n",
       "        vertical-align: top;\n",
       "    }\n",
       "\n",
       "    .dataframe thead th {\n",
       "        text-align: right;\n",
       "    }\n",
       "</style>\n",
       "<table border=\"1\" class=\"dataframe\">\n",
       "  <thead>\n",
       "    <tr style=\"text-align: right;\">\n",
       "      <th></th>\n",
       "      <th>c1</th>\n",
       "      <th>c2</th>\n",
       "    </tr>\n",
       "  </thead>\n",
       "  <tbody>\n",
       "    <tr>\n",
       "      <th>0</th>\n",
       "      <td>10</td>\n",
       "      <td>100</td>\n",
       "    </tr>\n",
       "    <tr>\n",
       "      <th>1</th>\n",
       "      <td>11</td>\n",
       "      <td>110</td>\n",
       "    </tr>\n",
       "    <tr>\n",
       "      <th>2</th>\n",
       "      <td>12</td>\n",
       "      <td>120</td>\n",
       "    </tr>\n",
       "  </tbody>\n",
       "</table>\n",
       "</div>"
      ],
      "text/plain": [
       "   c1   c2\n",
       "0  10  100\n",
       "1  11  110\n",
       "2  12  120"
      ]
     },
     "execution_count": 3,
     "metadata": {},
     "output_type": "execute_result"
    }
   ],
   "source": [
    "#creating a sample dataframe\n",
    "\n",
    "df = pd.DataFrame({'c1': [10, 11, 12], 'c2': [100, 110, 120]})\n",
    "\n",
    "df"
   ]
  },
  {
   "cell_type": "code",
   "execution_count": 4,
   "metadata": {},
   "outputs": [
    {
     "name": "stdout",
     "output_type": "stream",
     "text": [
      "10 100\n",
      "11 110\n",
      "12 120\n"
     ]
    }
   ],
   "source": [
    "# Now I want to iterate over the rows of this frame. \n",
    "# For every row I want to be able to access its elements \n",
    "# (values in cells) by the name of the columns. \n",
    "\n",
    "for index, row in df.iterrows():\n",
    "    print(row['c1'], row['c2'])"
   ]
  },
  {
   "cell_type": "code",
   "execution_count": 5,
   "metadata": {},
   "outputs": [
    {
     "name": "stdout",
     "output_type": "stream",
     "text": [
      "10\n",
      "11\n",
      "12\n"
     ]
    }
   ],
   "source": [
    "for index, row in df.iterrows():\n",
    "    print(row['c1'])"
   ]
  },
  {
   "cell_type": "code",
   "execution_count": 8,
   "metadata": {},
   "outputs": [
    {
     "data": {
      "text/html": [
       "<div>\n",
       "<style scoped>\n",
       "    .dataframe tbody tr th:only-of-type {\n",
       "        vertical-align: middle;\n",
       "    }\n",
       "\n",
       "    .dataframe tbody tr th {\n",
       "        vertical-align: top;\n",
       "    }\n",
       "\n",
       "    .dataframe thead th {\n",
       "        text-align: right;\n",
       "    }\n",
       "</style>\n",
       "<table border=\"1\" class=\"dataframe\">\n",
       "  <thead>\n",
       "    <tr style=\"text-align: right;\">\n",
       "      <th></th>\n",
       "      <th>Name</th>\n",
       "      <th>Flower Color</th>\n",
       "      <th>Rose bloom color</th>\n",
       "    </tr>\n",
       "  </thead>\n",
       "  <tbody>\n",
       "    <tr>\n",
       "      <th>0</th>\n",
       "      <td>NYE BEVAN</td>\n",
       "      <td>white</td>\n",
       "      <td>White And White Blend</td>\n",
       "    </tr>\n",
       "    <tr>\n",
       "      <th>1</th>\n",
       "      <td>EUSTACIA VYE</td>\n",
       "      <td></td>\n",
       "      <td>Pink Blend</td>\n",
       "    </tr>\n",
       "    <tr>\n",
       "      <th>2</th>\n",
       "      <td>GABRIEL OAK</td>\n",
       "      <td>pink</td>\n",
       "      <td>Red Blend</td>\n",
       "    </tr>\n",
       "    <tr>\n",
       "      <th>3</th>\n",
       "      <td>EMILY BRONTE</td>\n",
       "      <td></td>\n",
       "      <td>Light Pink Blend</td>\n",
       "    </tr>\n",
       "  </tbody>\n",
       "</table>\n",
       "</div>"
      ],
      "text/plain": [
       "           Name Flower Color       Rose bloom color\n",
       "0     NYE BEVAN        white  White And White Blend\n",
       "1  EUSTACIA VYE                          Pink Blend\n",
       "2   GABRIEL OAK         pink              Red Blend\n",
       "3  EMILY BRONTE                    Light Pink Blend"
      ]
     },
     "execution_count": 8,
     "metadata": {},
     "output_type": "execute_result"
    }
   ],
   "source": [
    "#creating a sample dataframe with rose data\n",
    "\n",
    "df = pd.DataFrame({'Name': ['NYE BEVAN', \"EUSTACIA VYE\", 'GABRIEL OAK', 'EMILY BRONTE'], \n",
    "                   'Flower Color': ['white', '', 'pink', ''], \n",
    "                   'Rose bloom color': ['White And White Blend','Pink Blend', 'Red Blend', 'Light Pink Blend']})\n",
    "\n",
    "df"
   ]
  },
  {
   "cell_type": "code",
   "execution_count": 13,
   "metadata": {},
   "outputs": [
    {
     "data": {
      "text/html": [
       "<div>\n",
       "<style scoped>\n",
       "    .dataframe tbody tr th:only-of-type {\n",
       "        vertical-align: middle;\n",
       "    }\n",
       "\n",
       "    .dataframe tbody tr th {\n",
       "        vertical-align: top;\n",
       "    }\n",
       "\n",
       "    .dataframe thead th {\n",
       "        text-align: right;\n",
       "    }\n",
       "</style>\n",
       "<table border=\"1\" class=\"dataframe\">\n",
       "  <thead>\n",
       "    <tr style=\"text-align: right;\">\n",
       "      <th></th>\n",
       "      <th>Name</th>\n",
       "      <th>Flower Color</th>\n",
       "      <th>Rose bloom color</th>\n",
       "    </tr>\n",
       "  </thead>\n",
       "  <tbody>\n",
       "    <tr>\n",
       "      <th>0</th>\n",
       "      <td>NYE BEVAN</td>\n",
       "      <td>white</td>\n",
       "      <td>White And White Blend</td>\n",
       "    </tr>\n",
       "    <tr>\n",
       "      <th>1</th>\n",
       "      <td>EUSTACIA VYE</td>\n",
       "      <td>pink</td>\n",
       "      <td>Pink Blend</td>\n",
       "    </tr>\n",
       "    <tr>\n",
       "      <th>2</th>\n",
       "      <td>GABRIEL OAK</td>\n",
       "      <td>pink</td>\n",
       "      <td>Red Blend</td>\n",
       "    </tr>\n",
       "    <tr>\n",
       "      <th>3</th>\n",
       "      <td>EMILY BRONTE</td>\n",
       "      <td>light pink</td>\n",
       "      <td>Light Pink Blend</td>\n",
       "    </tr>\n",
       "  </tbody>\n",
       "</table>\n",
       "</div>"
      ],
      "text/plain": [
       "           Name Flower Color       Rose bloom color\n",
       "0     NYE BEVAN        white  White And White Blend\n",
       "1  EUSTACIA VYE         pink             Pink Blend\n",
       "2   GABRIEL OAK         pink              Red Blend\n",
       "3  EMILY BRONTE   light pink       Light Pink Blend"
      ]
     },
     "execution_count": 13,
     "metadata": {},
     "output_type": "execute_result"
    }
   ],
   "source": [
    "# Here the problem is that Flower Color for EUSTACIA VYE and EMILY BRONTE is unknown \n",
    "# If we only need to update one cell we can do this directly\n",
    "# In this exsample we are assuming that we have a much bigger df \n",
    "# and that this issue is also present in other rows and so we need to update using a rule\n",
    "\n",
    "for i, row in df.iterrows():\n",
    "    if (pd.notnull(row['Rose bloom color'])):\n",
    "            color = row['Rose bloom color']\n",
    "            # print(color)\n",
    "            if color == 'Pink Blend':\n",
    "                df.at[i, 'Flower Color'] = 'pink'\n",
    "            elif color == 'Light Pink Blend':\n",
    "                df.at[i, 'Flower Color'] = 'light pink'           \n",
    "df"
   ]
  },
  {
   "cell_type": "code",
   "execution_count": null,
   "metadata": {},
   "outputs": [],
   "source": []
  }
 ],
 "metadata": {
  "kernelspec": {
   "display_name": "Python 3",
   "language": "python",
   "name": "python3"
  },
  "language_info": {
   "codemirror_mode": {
    "name": "ipython",
    "version": 3
   },
   "file_extension": ".py",
   "mimetype": "text/x-python",
   "name": "python",
   "nbconvert_exporter": "python",
   "pygments_lexer": "ipython3",
   "version": "3.7.3"
  }
 },
 "nbformat": 4,
 "nbformat_minor": 2
}
